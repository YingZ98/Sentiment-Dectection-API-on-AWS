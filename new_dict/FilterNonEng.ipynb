{
 "cells": [
  {
   "cell_type": "code",
   "execution_count": 15,
   "metadata": {},
   "outputs": [],
   "source": [
    "import os\n",
    "import enchant\n",
    "import emoji"
   ]
  },
  {
   "cell_type": "code",
   "execution_count": 16,
   "metadata": {},
   "outputs": [],
   "source": [
    "def get_glove_dictionary(file_path=\"./glove_vector.txt\"):\n",
    "    \"\"\"output a glove dictionary\"\"\"\n",
    "    file = open(file_path, \"r\",encoding='utf-8')\n",
    "    dictionary = {}\n",
    "    keys = []\n",
    "    for word_vector in file:\n",
    "        dictionary[word_vector.split()[0]] = word_vector.split()[1:]\n",
    "        keys.append(word_vector.split()[0])\n",
    "    file.close()\n",
    "    return dictionary, keys"
   ]
  },
  {
   "cell_type": "code",
   "execution_count": 17,
   "metadata": {},
   "outputs": [],
   "source": [
    "def isWord(s):\n",
    "    try:\n",
    "        return d.check(s)\n",
    "    except Exception as e:\n",
    "        return False\n",
    "    return True"
   ]
  },
  {
   "cell_type": "code",
   "execution_count": 18,
   "metadata": {},
   "outputs": [],
   "source": [
    "def char_is_emoji(character):\n",
    "    return character in emoji.UNICODE_EMOJI"
   ]
  },
  {
   "cell_type": "code",
   "execution_count": 19,
   "metadata": {},
   "outputs": [],
   "source": [
    "def is_tag(s):\n",
    "    try:\n",
    "        if s[0] == '<' and s[-1] =='>':\n",
    "            return True\n",
    "    except Exception as e:\n",
    "        return False\n",
    "    return False"
   ]
  },
  {
   "cell_type": "code",
   "execution_count": 20,
   "metadata": {},
   "outputs": [],
   "source": [
    "def valid_input(s):\n",
    "    if isWord(s):\n",
    "        return True\n",
    "    elif char_is_emoji(s):\n",
    "        return True\n",
    "    elif is_tag(s):\n",
    "        return True\n",
    "    else:\n",
    "        return False"
   ]
  },
  {
   "cell_type": "code",
   "execution_count": 48,
   "metadata": {},
   "outputs": [],
   "source": [
    "def output_dict(_valid):\n",
    "    file = open(\"./new/Glove_dict.txt\", \"a\",encoding='utf-8')\n",
    "    for word in _valid:\n",
    "        file.write(word + '\\n')\n",
    "    file.close()"
   ]
  },
  {
   "cell_type": "code",
   "execution_count": 52,
   "metadata": {},
   "outputs": [],
   "source": [
    "def output_vec_dict(_dict, _keys, _valid):\n",
    "    file = open(\"./new/glove_vector.txt\", \"a\",encoding='utf-8')\n",
    "    for key in _valid:\n",
    "        a = [key]\n",
    "        a.extend(_dict[key])\n",
    "        s = \" \".join(a)\n",
    "        file.write(s +'\\n')\n",
    "    file.close()"
   ]
  },
  {
   "cell_type": "code",
   "execution_count": 33,
   "metadata": {},
   "outputs": [],
   "source": [
    "[_dict, _keys] = get_glove_dictionary()"
   ]
  },
  {
   "cell_type": "code",
   "execution_count": 34,
   "metadata": {},
   "outputs": [],
   "source": [
    "d = enchant.Dict(\"en_US\")\n",
    "_valid = [x for x in _keys if valid_input(x)]"
   ]
  },
  {
   "cell_type": "code",
   "execution_count": 35,
   "metadata": {},
   "outputs": [
    {
     "data": {
      "text/plain": [
       "47506"
      ]
     },
     "execution_count": 35,
     "metadata": {},
     "output_type": "execute_result"
    }
   ],
   "source": [
    "len(_valid)"
   ]
  },
  {
   "cell_type": "code",
   "execution_count": 40,
   "metadata": {},
   "outputs": [
    {
     "data": {
      "text/plain": [
       "1193516"
      ]
     },
     "execution_count": 40,
     "metadata": {},
     "output_type": "execute_result"
    }
   ],
   "source": [
    "len(_keys)"
   ]
  },
  {
   "cell_type": "code",
   "execution_count": 36,
   "metadata": {},
   "outputs": [],
   "source": [
    "output_dict(_valid)"
   ]
  },
  {
   "cell_type": "code",
   "execution_count": 53,
   "metadata": {},
   "outputs": [],
   "source": [
    "output_vec_dict(_dict, _keys, _valid)"
   ]
  },
  {
   "cell_type": "code",
   "execution_count": null,
   "metadata": {},
   "outputs": [],
   "source": []
  }
 ],
 "metadata": {
  "kernelspec": {
   "display_name": "Python 3",
   "language": "python",
   "name": "python3"
  },
  "language_info": {
   "codemirror_mode": {
    "name": "ipython",
    "version": 3
   },
   "file_extension": ".py",
   "mimetype": "text/x-python",
   "name": "python",
   "nbconvert_exporter": "python",
   "pygments_lexer": "ipython3",
   "version": "3.7.4"
  }
 },
 "nbformat": 4,
 "nbformat_minor": 2
}
